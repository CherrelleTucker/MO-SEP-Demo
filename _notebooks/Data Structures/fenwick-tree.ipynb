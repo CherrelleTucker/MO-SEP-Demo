{
 "cells": [
  {
   "attachments": {},
   "cell_type": "markdown",
   "metadata": {},
   "source": [
    "# Fenwick Tree\n",
    "\n",
    "## Sources\n",
    "1. https://www.youtube.com/watch?v=kPaJfAUwViY&t=1151s\n",
    "2. https://github.com/JonSteinn/Kattis-Solutions/blob/master/src/Movie%20Collection/Python%203/main.py\n",
    "3. https://www.hrwhisper.me/leetcode-range-sum-query-mutable/\n",
    "4. https://leetcode.com/problems/range-sum-query-mutable/solutions/75842/my-python-solution-using-fenwick-tree-208ms/\n",
    "\n",
    "## Problems\n",
    "1. https://open.kattis.com/problems/moviecollection"
   ]
  },
  {
   "attachments": {},
   "cell_type": "markdown",
   "metadata": {},
   "source": [
    "## Implementation\n",
    "\n",
    "Based on source [2] and solution [4].\n",
    "\n",
    "The Kattis problem (Movie Collection) deals with a variational use of the Fenwick Tree, in which cumulative sum over prefix-sums is calculated. In the more usual use case for the Fenwick Tree, we deal with regular prefix-sums. For that case, we need to support changing elements in the original array. Thus, we change the implementation from source [2].\n",
    "\n",
    "### Change 1:\n",
    "\n",
    "We change `sum_tree` to `sum_array`.\n",
    "We save the entire initialization array as `self_nums`.\n",
    "This means we have now two representations for the array:\n",
    "\n",
    "1. `self_nums`, which allows us to see array elements in O(1), and also print them.\n",
    "2. `sum_tree`, which allows us to execute the more efficient fenwick tree algorithm for the calculation of prefix sum from our original array.\n",
    "\n",
    "### Change 2:\n",
    "\n",
    "We differentiate between two types of changes to the fenwick tree:\n",
    "\n",
    "- Updates deal with changes that rely on some previous valid state of the array, as they use a valid element array.\n",
    "- Additions deal with changes that do not require past valid values.\n",
    "\n",
    "This means that:\n",
    "\n",
    "- Updates can happen only after a valid state of the entire tree is reached.\n",
    "- Additions can happen at any state. They do not affect the \"normal\" presentation of the array."
   ]
  },
  {
   "cell_type": "code",
   "execution_count": 1,
   "metadata": {},
   "outputs": [],
   "source": [
    "class FenwickTree:\n",
    "    def __init__(self, arr):\n",
    "        self.nums = arr\n",
    "        self.n = len(arr)\n",
    "        self.sum_array = [0] * (self.n + 1)\n",
    "        for i,x in enumerate(arr):\n",
    "            self.add(i+1, x) \n",
    "\n",
    "    def update(self, i, value):  \n",
    "        self.add(i+1, value - self.nums[i])\n",
    "        self.nums[i] = value \n",
    "\n",
    "    def add(self, i, value):\n",
    "        while i <= self.n:\n",
    "            self.sum_array[i] += value\n",
    "            i += self.lowbit(i)\n",
    "\n",
    "    def lowbit(self, i):\n",
    "        return i & -i\n",
    "            \n",
    "    def sum(self, i):\n",
    "        s = 0\n",
    "        while i > 0:\n",
    "            s += self.sum_array[i]\n",
    "            i -= self.lowbit(i) \n",
    "        return s"
   ]
  },
  {
   "attachments": {},
   "cell_type": "markdown",
   "metadata": {},
   "source": [
    "### Problems\n",
    "\n",
    "#### The Kattis problem, [2]"
   ]
  },
  {
   "cell_type": "code",
   "execution_count": 2,
   "metadata": {},
   "outputs": [],
   "source": [
    "def move_top(x,i,r,ft,index):\n",
    "    c = ft.sum(index[x]) - 1\n",
    "    ft.add(index[x], -1)\n",
    "    index[x] = r - i\n",
    "    ft.add(index[x], 1)\n",
    "    return f'{c}'\n",
    "\n",
    "def test_case(m,r,a):\n",
    "    ft = FenwickTree([0]*r + [1]*m)\n",
    "    index = [0]+[r+i+1 for i in range(m)]\n",
    "    print(' '.join(move_top(x,i,r,ft,index) for i,x in enumerate(a)))\n",
    "\n",
    "def main(getline = input):\n",
    "    for _ in range(int(getline())):\n",
    "        test_case(*map(int, getline().split()), map(int, getline().split()))\n",
    "\n",
    "if __name__ == \"__main__\":\n",
    "    main()"
   ]
  }
 ],
 "metadata": {
  "kernelspec": {
   "display_name": "Python 3",
   "language": "python",
   "name": "python3"
  },
  "language_info": {
   "codemirror_mode": {
    "name": "ipython",
    "version": 3
   },
   "file_extension": ".py",
   "mimetype": "text/x-python",
   "name": "python",
   "nbconvert_exporter": "python",
   "pygments_lexer": "ipython3",
   "version": "3.10.8"
  },
  "orig_nbformat": 4
 },
 "nbformat": 4,
 "nbformat_minor": 2
}
