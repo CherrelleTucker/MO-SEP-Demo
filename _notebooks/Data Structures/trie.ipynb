{
 "cells": [
  {
   "attachments": {},
   "cell_type": "markdown",
   "metadata": {},
   "source": [
    "# Trie\n",
    "A trie is a tree structure optimized for storing strings that might have common prefixes\n",
    "\n",
    "## Sources\n",
    "1. https://stackoverflow.com/questions/11015320/how-to-create-a-trie-in-python\n",
    "2. https://stackoverflow.com/a/64303618/8552542\n"
   ]
  },
  {
   "attachments": {},
   "cell_type": "markdown",
   "metadata": {},
   "source": [
    "## Implementation\n",
    "\n",
    "Based on the discussion from source [1], and especially the comment in [2]."
   ]
  },
  {
   "cell_type": "code",
   "execution_count": 4,
   "metadata": {},
   "outputs": [],
   "source": [
    "from functools import reduce\n",
    "from collections import defaultdict\n",
    "\n",
    "class Trie:\n",
    "    def __init__(self):\n",
    "        self._trie_function = lambda: defaultdict(self._trie_function)\n",
    "        self.trie = self._trie_function()\n",
    "        self.ENDSTRING = \"_end\"\n",
    "    \n",
    "    def add_word(self, word):\n",
    "        curr = self.trie\n",
    "        for c in word:\n",
    "            curr = curr[c]\n",
    "        curr.setdefault(self.ENDSTRING)\n",
    "    \n",
    "    def word_exists(self, word):\n",
    "        temp = self.trie\n",
    "        for c in word:\n",
    "            if c not in temp:\n",
    "                return False\n",
    "            temp = temp[c]\n",
    "        return self.ENDSTRING in temp"
   ]
  },
  {
   "attachments": {},
   "cell_type": "markdown",
   "metadata": {},
   "source": [
    "### Explanation\n",
    "This implementation is unusual in its use of a lambda function calling a default dictionary, set to return the same lambda function. There are few interesting points to be made here:\n",
    "\n",
    "#### Implemenataion Components and Details\n",
    "1. The lambda function is chosen so that we are always able to expand the trie using a new unnamed default dictionary. \n",
    "2. We have many unnamed default dictonaries here. They all return the same lambda function, that allows to build new nodes when necessary.\n",
    "3. Every unnamed default dictionary represents a single node in our trie.\n",
    "4. A default dictionary combines the searching and building operations for a dictionary. \n",
    "\n",
    "#### Operations\n",
    "The main operations in a trie are building and searching for a string in it. That said, the backbone of both these operations is traversing the trie. We first examine traversal, and then continue to searching and building the tree.\n",
    "\n",
    "##### Traversal\n",
    "During every step of a traversal, we will always \"sit\" on a given node. As mentioned previously, a node is represented by a default dictionary. Our traversal is determined by what we want to search for next, which is a key in our current dictionary. Our next stop is determined by the value of that key. Let us suppose that we reach a node and that we have a latter in mind, say `a`:\n",
    "1. If `a` was previously inserted to the trie from our current node, then that letter is a key in the current default dictionary. Its value is the new default dictionary that represents the node that was created when `a` was inserted into the trie.\n",
    "2. If `a` was not previously inserted to the trie from our current node, than indexing into the current dictionary initiates its default function to create a new default dictionary that represents the node that will be created when a is inserted into the trie.\n",
    "\n",
    "By laverging a tree illustration, using nodes and edges, it might help to consider the following:\n",
    "1. Our node is a default dictionary.\n",
    "2. Letters symbolize the edges connecting to our node.\n",
    "3. Our default dictionary treats these letters as keys.\n",
    "4. The value of each key / letter is the node to which we arrive after traversing the edge symbolized by that letter.\n",
    "5. We then arrive at a new node / default dictionary. This brings us back to (1).\n",
    "\n",
    "##### Searching\n",
    "When searching for a work in the tree, if we have a suitable new node to go to (another unnamed default dictionary), the line `temp = temp[c]` does this transition. We are now in a new node of the tree, which is a child node of the last node. This node represents a shared prefix between inserted words. It still does not necessarily represent a word that was inserted into the tree. For that we need some way to signify, during the build process, that we finished adding a word in the current node. This an be done by adding a key to the default dictionary representing this node. This is done by adding the `_end` key to be set to `True`.\n",
    "\n",
    "##### Building\n",
    "When building the tree, and after inserting a whole word, the `curr` variable \"sits\" at the last node. This node is represented by a default dictionary. We then insert a default key to signify that this node is special, as it was inserted into the tree. This is done using the `setdeafult` method, which inserts the `_end` key. Then, as mentioned earlier, when searching for a word, we know the word exists in the tree if and only if we had a valid traversal for every letter in the word, and we have this special key in the last node.\n",
    "\n",
    "\n",
    "#### Printed representation\n",
    "Here's a printed trie that illustrated points in this explanation:\n",
    "\n",
    "```\n",
    "defaultdict(<function <lambda> at 0x7f234916bd30>,\n",
    "    {'h': defaultdict(<function <lambda> at 0x7f234916bd30>,\n",
    "        {'o': defaultdict(<function <lambda> at 0x7f234916bd30>, \n",
    "            {'w': defaultdict(<function <lambda> at 0x7f234916bd30>, \n",
    "            {'isEnd': True, \n",
    "                's': defaultdict(<function <lambda> at 0x7f234916bd30>, \n",
    "                    {'i': defaultdict(<function <lambda> at 0x7f234916bd30>, \n",
    "                        {'t': defaultdict(<function <lambda> at 0x7f234916bd30>, \n",
    "                            {'g': defaultdict(<function <lambda> at 0x7f234916bd30>, \n",
    "                                {'o': defaultdict(<function <lambda> at 0x7f234916bd30>, \n",
    "                                    {'i': defaultdict(<function <lambda> at 0x7f234916bd30>, \n",
    "                                        {'n': defaultdict(<function <lambda> at 0x7f234916bd30>, \n",
    "                                            {'g': defaultdict(<function <lambda> at 0x7f234916bd30>, \n",
    "                                            {'isEnd': True})}\n",
    "                                                )})})})})})})})})})})\n",
    "```\n",
    "\n"
   ]
  },
  {
   "attachments": {},
   "cell_type": "markdown",
   "metadata": {},
   "source": [
    "### Tests"
   ]
  },
  {
   "attachments": {},
   "cell_type": "markdown",
   "metadata": {},
   "source": [
    "#### Test 1"
   ]
  },
  {
   "cell_type": "code",
   "execution_count": 5,
   "metadata": {},
   "outputs": [
    {
     "name": "stdout",
     "output_type": "stream",
     "text": [
      "True\n",
      "False\n"
     ]
    }
   ],
   "source": [
    "def testcase():\n",
    "    trie = Trie()\n",
    "    words = [\"cat\", \"bat\", \"rat\", \"cam\"]\n",
    "    for w in words:\n",
    "        trie.add_word(w)\n",
    "    print(trie.word_exists('cam'))\n",
    "    print(trie.word_exists('cal'))\n",
    "\n",
    "\n",
    "testcase()"
   ]
  }
 ],
 "metadata": {
  "kernelspec": {
   "display_name": "Python 3",
   "language": "python",
   "name": "python3"
  },
  "language_info": {
   "codemirror_mode": {
    "name": "ipython",
    "version": 3
   },
   "file_extension": ".py",
   "mimetype": "text/x-python",
   "name": "python",
   "nbconvert_exporter": "python",
   "pygments_lexer": "ipython3",
   "version": "3.10.8"
  },
  "orig_nbformat": 4
 },
 "nbformat": 4,
 "nbformat_minor": 2
}
