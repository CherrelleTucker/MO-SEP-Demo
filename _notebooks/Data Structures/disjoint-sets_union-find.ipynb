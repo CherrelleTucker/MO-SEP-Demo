{
 "cells": [
  {
   "attachments": {},
   "cell_type": "markdown",
   "metadata": {},
   "source": [
    "# Disjoin Sets (Union-Find)\n",
    "\n",
    "## Sources\n",
    "1. Discussion shows use case and an implementation for union-find. Implementations here are not encapsulated in a class. Link: https://stackoverflow.com/questions/27850002/given-lists-of-related-numbers-merge-related-lists-to-create-disjoint-sets\n",
    "\n",
    "2. An okay implementation of the union-find data structure, encapsulated. Link: https://python.plainenglish.io/union-find-data-structure-in-python-8e55369e2a4f\n",
    "\n",
    "3. Another okay implementation of the union-find data structure, encapsulated. Link: https://www.geeksforgeeks.org/union-by-rank-and-path-compression-in-union-find-algorithm/\n",
    "\n",
    "4. Seems like a very robust implementation of this structure. Link: https://github.com/deehzee/unionfind\n",
    "\n",
    "## Problems\n",
    "\n",
    "1. Leetcode: Lexicographically smallest equivalent string. Link: https://leetcode.com/problems/lexicographically-smallest-equivalent-string/\n",
    "\n"
   ]
  },
  {
   "attachments": {},
   "cell_type": "markdown",
   "metadata": {},
   "source": [
    "## Implementation\n",
    "Based on sources 3,2"
   ]
  },
  {
   "cell_type": "code",
   "execution_count": 4,
   "metadata": {},
   "outputs": [],
   "source": [
    "from collections import defaultdict\n",
    "\n",
    "# a structure to represent a graph\n",
    "class Graph:\n",
    "    def __init__(self, num_of_v):\n",
    "        self.num_of_v = num_of_v\n",
    "        self.edges = defaultdict(list)\n",
    "\n",
    "    def add_edge(self, u, v):\n",
    "        self.edges[u].append(v)\n",
    "\n",
    "class Subset:\n",
    "    def __init__(self, parent, rank):\n",
    "        self.parent = parent\n",
    "        self.rank = rank\n",
    "\n",
    "class UnionFind:\n",
    "    # This structure is 1-indexed.\n",
    "    def __init__(self, num_of_elements):\n",
    "        self.subsets = [Subset(i,0) for i in range(num_of_elements)]\n",
    "        self.size = num_of_elements\n",
    "\n",
    "    # path compression happens here!\n",
    "    def find(self, node):\n",
    "        if self.subsets[node].parent != node:\n",
    "            self.subsets[node].parent = self.find(self.subsets[node].parent)\n",
    "        return self.subsets[node].parent\n",
    "\n",
    "    def union(self, u, v):\n",
    "        u_set = self.find(u)\n",
    "        v_set = self.find(v)\n",
    "        if (u_set == v_set):\n",
    "            return\n",
    "        elif self.subsets[u_set].rank > self.subsets[v_set].rank:\n",
    "            self.subsets[v_set].parent = u_set\n",
    "        elif self.subsets[v_set].rank > self.subsets[u_set].rank:\n",
    "            self.subsets[u_set].parent = v_set\n",
    "        else:\n",
    "            self.subsets[v_set].parent = u_set\n",
    "            self.subsets[u_set].rank += 1\n",
    "    \n",
    "    def get_groups(self):\n",
    "        groups = defaultdict(set)\n",
    "        for element in range(self.size):\n",
    "            # we call self.find so that path compression occurs\n",
    "            groups[self.find(element)].add(element)\n",
    "        return groups"
   ]
  },
  {
   "attachments": {},
   "cell_type": "markdown",
   "metadata": {},
   "source": [
    "### Tests"
   ]
  },
  {
   "attachments": {},
   "cell_type": "markdown",
   "metadata": {},
   "source": [
    "#### Test 1"
   ]
  },
  {
   "cell_type": "code",
   "execution_count": 7,
   "metadata": {},
   "outputs": [
    {
     "name": "stdout",
     "output_type": "stream",
     "text": [
      "Graph contains cycle\n"
     ]
    }
   ],
   "source": [
    "# From source 3\n",
    "\n",
    "def isCycle(graph):\n",
    "    unionfind = UnionFind(graph.num_of_v)\n",
    "\n",
    "    for u in graph.edges:\n",
    "        u_rep = unionfind.find(u)\n",
    "\n",
    "        for v in graph.edges[u]:\n",
    "            v_rep = unionfind.find(v)\n",
    "\n",
    "            if u_rep == v_rep:\n",
    "                return True\n",
    "            else:\n",
    "                unionfind.union(u_rep, v_rep)\n",
    "\n",
    "def testcase1():\n",
    "    # Driver Code\n",
    "    g = Graph(3)\n",
    "\n",
    "    # add edge 0-1\n",
    "    g.add_edge(0, 1)\n",
    "\n",
    "    # add edge 1-2\n",
    "    g.add_edge(1, 2)\n",
    "\n",
    "    # add edge 0-2\n",
    "    g.add_edge(0, 2)\n",
    "\n",
    "    if isCycle(g):\n",
    "        print('Graph contains cycle')\n",
    "    else:\n",
    "        print('Graph does not contain cycle')\n",
    "\n",
    "testcase1()"
   ]
  },
  {
   "attachments": {},
   "cell_type": "markdown",
   "metadata": {},
   "source": [
    "#### Test 2"
   ]
  },
  {
   "cell_type": "code",
   "execution_count": 8,
   "metadata": {},
   "outputs": [
    {
     "name": "stdout",
     "output_type": "stream",
     "text": [
      "defaultdict(<class 'set'>, {0: {0}, 1: {1, 2}, 5: {3, 4, 5, 6, 7}})\n"
     ]
    }
   ],
   "source": [
    "def testcase2():\n",
    "    pairs = [(1,2),(3,4),(5,6),(3,7),(5,7)]\n",
    "\n",
    "\n",
    "    # unionfind is 1-indexed.\n",
    "    # pairs have 7 elements, from 1 to 7, inclusive. \n",
    "    # From (1-index)-ness, we start with n=8=7+1\n",
    "    n = 8\n",
    "    unionfind = UnionFind(n)\n",
    "    for a,b in pairs:\n",
    "        unionfind.union(a,b)\n",
    "\n",
    "    print(unionfind.get_groups())\n",
    "\n",
    "\n",
    "testcase2()"
   ]
  }
 ],
 "metadata": {
  "kernelspec": {
   "display_name": "Python 3",
   "language": "python",
   "name": "python3"
  },
  "language_info": {
   "codemirror_mode": {
    "name": "ipython",
    "version": 3
   },
   "file_extension": ".py",
   "mimetype": "text/x-python",
   "name": "python",
   "nbconvert_exporter": "python",
   "pygments_lexer": "ipython3",
   "version": "3.10.8"
  },
  "orig_nbformat": 4
 },
 "nbformat": 4,
 "nbformat_minor": 2
}
