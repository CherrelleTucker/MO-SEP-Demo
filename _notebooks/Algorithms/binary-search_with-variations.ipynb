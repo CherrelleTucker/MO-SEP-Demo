{
 "cells": [
  {
   "attachments": {},
   "cell_type": "markdown",
   "metadata": {},
   "source": [
    "# Binary Search with Variations\n",
    "\n",
    "Sources: \n",
    "1. https://www.youtube.com/watch?v=GU7DpgHINWQ&t=767s\n",
    "2. https://www.geeksforgeeks.org/namedtuple-in-python/\n",
    "3. https://realpython.com/python-assert-statement/\n",
    "4. https://www.youtube.com/watch?v=P9OSkJOVf6U&t=185s [for the use of `assert`]\n",
    "5. https://stackoverflow.com/questions/18591778/how-to-pass-an-operator-to-a-python-function\n"
   ]
  },
  {
   "cell_type": "code",
   "execution_count": 104,
   "metadata": {},
   "outputs": [],
   "source": [
    "import math\n",
    "import collections\n",
    "import operator\n",
    "\n",
    "TestCaseForArray = collections.namedtuple('TestCaseForArray', ['array', 'target'])\n",
    "TestCaseForIntegers = collections.namedtuple('TestCaseForIntegers', ['left', 'right', 'target'])"
   ]
  },
  {
   "attachments": {},
   "cell_type": "markdown",
   "metadata": {},
   "source": [
    "## Considerations in binary search\n",
    "1. Search space: array vs. integers?\n",
    "2. Function on elements: Are we using the identity function or another function for the comparison?\n",
    "3. Variation: Are we searching for an equality or are we searching for the first element to satisfy something. \n",
    "\n",
    "Notice that it is optional to use a predicate instead of the operator to direct the next side of search: We can insert any logic that fits there into the the function to be applied on elements, from consideration 2."
   ]
  },
  {
   "attachments": {},
   "cell_type": "markdown",
   "metadata": {},
   "source": [
    "## Normal version\n",
    "We start with a sorted array. We look for an element in that array. Our predicate function is equality."
   ]
  },
  {
   "attachments": {},
   "cell_type": "markdown",
   "metadata": {},
   "source": [
    "### Using an identity function on elements"
   ]
  },
  {
   "cell_type": "code",
   "execution_count": 105,
   "metadata": {},
   "outputs": [],
   "source": [
    "def binary_search_index(array, target):\n",
    "    L = 0\n",
    "    R = len(array) - 1\n",
    "    while L <= R:\n",
    "        mid = L + (R - L) // 2\n",
    "        if array[mid] == target:\n",
    "            return mid\n",
    "        if array[mid] < target:\n",
    "            L = mid + 1\n",
    "        else:\n",
    "            R = mid - 1\n",
    "    return -1"
   ]
  },
  {
   "cell_type": "code",
   "execution_count": 106,
   "metadata": {},
   "outputs": [],
   "source": [
    "test1 = TestCaseForArray(array=[2,3,4,5,6,7,12], target=4)\n",
    "\n",
    "index = binary_search_index(test1.array, test1.target)\n",
    "\n",
    "assert test1.array[index] == test1.target"
   ]
  },
  {
   "cell_type": "code",
   "execution_count": 107,
   "metadata": {},
   "outputs": [],
   "source": [
    "def binary_search_index(array, target, function = lambda x: x):\n",
    "    L = 0\n",
    "    R = len(array) - 1\n",
    "    while L <= R:\n",
    "        mid = L + (R - L) // 2\n",
    "        if function(array[mid]) == target:\n",
    "            return mid\n",
    "        if function(array[mid]) < target:\n",
    "            L = mid + 1\n",
    "        else:\n",
    "            R = mid - 1\n",
    "    return -1"
   ]
  },
  {
   "cell_type": "code",
   "execution_count": 108,
   "metadata": {},
   "outputs": [],
   "source": [
    "test1 = TestCaseForArray(array=[2,3,4,5,6,7,12], target=4)\n",
    "\n",
    "index = binary_search_index(test1.array, test1.target)\n",
    "\n",
    "assert test1.array[index] == test1.target"
   ]
  },
  {
   "attachments": {},
   "cell_type": "markdown",
   "metadata": {},
   "source": [
    "### Using another function on elements"
   ]
  },
  {
   "cell_type": "code",
   "execution_count": 109,
   "metadata": {},
   "outputs": [],
   "source": [
    "def binary_search_index_with_function(array, target, function = lambda x: x):\n",
    "    L = 0\n",
    "    R = len(array) - 1\n",
    "    while L <= R:\n",
    "        mid = L + (R - L) // 2\n",
    "        if function(array[mid]) == target:\n",
    "            return mid\n",
    "        if function(array[mid]) < target:\n",
    "            L = mid + 1\n",
    "        else:\n",
    "            R = mid - 1\n",
    "    return -1"
   ]
  },
  {
   "cell_type": "code",
   "execution_count": 110,
   "metadata": {},
   "outputs": [],
   "source": [
    "test1 = TestCaseForArray(array=[2,3,4,5,6,7,12], target=4)\n",
    "\n",
    "# We are looking for a number `x` such that `x^2 == test1.target`\n",
    "\n",
    "index = binary_search_index_with_function(test1.array, test1.target, lambda x : x**2)\n",
    "\n",
    "assert test1.array[index] == math.sqrt(test1.target)"
   ]
  },
  {
   "attachments": {},
   "cell_type": "markdown",
   "metadata": {},
   "source": [
    "### Dealing with integers\n",
    "If we are dealing with a large but continuous search space such as a specific integer, our binary search will not consider indices, but integers."
   ]
  },
  {
   "cell_type": "code",
   "execution_count": 111,
   "metadata": {},
   "outputs": [],
   "source": [
    "def binary_search_integers_with_function(left, right, target, function = lambda x: x):\n",
    "    L = left\n",
    "    R = right\n",
    "    while L <= R:\n",
    "        mid = L + (R - L) // 2\n",
    "        if function(mid) == target:\n",
    "            return mid\n",
    "        if function(mid) < target:\n",
    "            L = mid + 1\n",
    "        else:\n",
    "            R = mid - 1\n",
    "    return -1"
   ]
  },
  {
   "cell_type": "code",
   "execution_count": 112,
   "metadata": {},
   "outputs": [],
   "source": [
    "test1 = TestCaseForIntegers(left = 1, right = 10**5, target=121)\n",
    "\n",
    "# We are searching for the integer whose sequare equals target\n",
    "\n",
    "result = binary_search_integers_with_function(test1.left, test1.right, test1.target, lambda x : x**2)\n",
    "\n",
    "assert result ** 2 == test1.target"
   ]
  },
  {
   "attachments": {},
   "cell_type": "markdown",
   "metadata": {},
   "source": [
    "## Variation 1\n",
    "Finding first elemet in sorted array, such that it is the first to satisfy a given predicate."
   ]
  },
  {
   "attachments": {},
   "cell_type": "markdown",
   "metadata": {},
   "source": [
    "### Using an identity function on elements"
   ]
  },
  {
   "attachments": {},
   "cell_type": "markdown",
   "metadata": {},
   "source": [
    "#### Without predicate"
   ]
  },
  {
   "cell_type": "code",
   "execution_count": 113,
   "metadata": {},
   "outputs": [],
   "source": [
    "def binary_search_index(array, target):\n",
    "    L = 0\n",
    "    R = len(array) - 1\n",
    "    ans = -1\n",
    "    while L <= R:\n",
    "        mid = L + (R - L) // 2\n",
    "        if array[mid] >= target: \n",
    "            ans = mid\n",
    "            R = mid - 1\n",
    "        else:\n",
    "            L = mid + 1\n",
    "    return ans"
   ]
  },
  {
   "cell_type": "code",
   "execution_count": 114,
   "metadata": {},
   "outputs": [],
   "source": [
    "test1 = TestCaseForArray(array=[2,3,4,5,6,7,12], target=6)\n",
    "\n",
    "# We are looking for the first number `x` such that `x >= test1.target`\n",
    "\n",
    "index = binary_search_index(test1.array, test1.target)\n",
    "\n",
    "assert test1.array[index] >= test1.target and (index == 0 or not test1.array[index-1] >= test1.target)"
   ]
  },
  {
   "attachments": {},
   "cell_type": "markdown",
   "metadata": {},
   "source": [
    "#### With predicate\n",
    "This is redundant. We can insert the logic into the function operating on elements."
   ]
  },
  {
   "cell_type": "code",
   "execution_count": 115,
   "metadata": {},
   "outputs": [],
   "source": [
    "def binary_search_index_with_predicate(array, target, predicate):\n",
    "    L = 0\n",
    "    R = len(array) - 1\n",
    "    ans = -1\n",
    "    while L <= R:\n",
    "        mid = L + (R - L) // 2\n",
    "        if predicate(array[mid],target): # This is redundant. Better to just use normal operators\n",
    "            ans = mid\n",
    "            R = mid - 1\n",
    "        else:\n",
    "            L = mid + 1\n",
    "    return ans"
   ]
  },
  {
   "cell_type": "code",
   "execution_count": 116,
   "metadata": {},
   "outputs": [],
   "source": [
    "test1 = TestCaseForArray(array=[2,3,4,5,6,7,12], target=6)\n",
    "\n",
    "# We are looking for the first number `x` such that `x >= test1.target`\n",
    "\n",
    "index = binary_search_index_with_predicate(test1.array, test1.target, operator.ge)\n",
    "\n",
    "assert test1.array[index] >= test1.target and (index == 0 or not test1.array[index-1] >= test1.target)"
   ]
  },
  {
   "attachments": {},
   "cell_type": "markdown",
   "metadata": {},
   "source": [
    "### Using another function on elements"
   ]
  },
  {
   "attachments": {},
   "cell_type": "markdown",
   "metadata": {},
   "source": [
    "#### Without predicate"
   ]
  },
  {
   "cell_type": "code",
   "execution_count": 117,
   "metadata": {},
   "outputs": [],
   "source": [
    "def binary_search_index_with_function(array, target, function = lambda x : x):\n",
    "    L = 0\n",
    "    R = len(array) - 1\n",
    "    ans = -1\n",
    "    while L <= R:\n",
    "        mid = L + (R - L) // 2\n",
    "        if function(array[mid]) >= target:\n",
    "            ans = mid\n",
    "            R = mid - 1\n",
    "        else:\n",
    "            L = mid + 1\n",
    "    return ans"
   ]
  },
  {
   "cell_type": "code",
   "execution_count": 118,
   "metadata": {},
   "outputs": [],
   "source": [
    "test1 = TestCaseForArray(array=[2,3,4,5,6,7,12], target=6)\n",
    "\n",
    "index = binary_search_index_with_function(test1.array, test1.target)\n",
    "\n",
    "assert test1.array[index] >= test1.target"
   ]
  },
  {
   "cell_type": "code",
   "execution_count": 119,
   "metadata": {},
   "outputs": [],
   "source": [
    "test2 = TestCaseForArray(array=[2,3,4,5,6,7,12], target=6)\n",
    "\n",
    "# We are looking for the first number `x` such that `x**2 >= test1.target`\n",
    "\n",
    "index = binary_search_index_with_function(test2.array, test2.target, lambda x : x**2)\n",
    "\n",
    "assert test2.array[index] >= math.sqrt(test2.target) and (index == 0 or not test2.array[index-1] >= math.sqrt(test2.target))"
   ]
  },
  {
   "attachments": {},
   "cell_type": "markdown",
   "metadata": {},
   "source": [
    "#### With predicate"
   ]
  },
  {
   "cell_type": "code",
   "execution_count": 120,
   "metadata": {},
   "outputs": [],
   "source": [
    "def binary_search_index_with_predicate_function(array, target, predicate, function = lambda x : x):\n",
    "    L = 0\n",
    "    R = len(array) - 1\n",
    "    ans = -1\n",
    "    while L <= R:\n",
    "        mid = L + (R - L) // 2\n",
    "        if predicate(function(array[mid]), target):\n",
    "            ans = mid\n",
    "            R = mid - 1\n",
    "        else:\n",
    "            L = mid + 1\n",
    "    return ans"
   ]
  },
  {
   "cell_type": "code",
   "execution_count": 121,
   "metadata": {},
   "outputs": [],
   "source": [
    "test1 = TestCaseForArray(array=[2,3,4,5,6,7,12], target=6)\n",
    "\n",
    "index = binary_search_index_with_predicate_function(test1.array, test1.target, operator.ge)\n",
    "\n",
    "assert test1.array[index] >= test1.target"
   ]
  },
  {
   "cell_type": "code",
   "execution_count": 122,
   "metadata": {},
   "outputs": [],
   "source": [
    "test2 = TestCaseForArray(array=[2,3,4,5,6,7,12], target=6)\n",
    "\n",
    "# We are looking for the first number `x` such that `x**2 >= test1.target`\n",
    "\n",
    "index = binary_search_index_with_predicate_function(test2.array, test2.target, operator.ge, lambda x : x**2)\n",
    "\n",
    "assert test2.array[index] >= math.sqrt(test2.target) and (index == 0 or not test2.array[index-1] >= math.sqrt(test2.target))"
   ]
  },
  {
   "attachments": {},
   "cell_type": "markdown",
   "metadata": {},
   "source": [
    "### Dealing with integers\n",
    "If we are dealing with a large but continuous search space such as a specific integer, our binary search will not consider indices, but integers."
   ]
  },
  {
   "attachments": {},
   "cell_type": "markdown",
   "metadata": {},
   "source": [
    "#### Without predicate"
   ]
  },
  {
   "cell_type": "code",
   "execution_count": 123,
   "metadata": {},
   "outputs": [],
   "source": [
    "def binary_search_integers_with_function(left, right, target, function = lambda x : x):\n",
    "    L = left\n",
    "    R = right + 1\n",
    "    ans = -1\n",
    "    while L <= R:\n",
    "        mid = L + (R - L) // 2\n",
    "        if function(mid) >= target:\n",
    "            ans = mid\n",
    "            R = mid - 1\n",
    "        else:\n",
    "            L = mid + 1\n",
    "    return ans"
   ]
  },
  {
   "cell_type": "code",
   "execution_count": 124,
   "metadata": {},
   "outputs": [],
   "source": [
    "test1 = TestCaseForIntegers(left = 1, right = 10**5, target=678)\n",
    "\n",
    "# We are searching for the first integer whose sequare is greater-equal than target\n",
    "\n",
    "result = binary_search_integers_with_function(test1.left, test1.right, test1.target, lambda x : x**2)\n",
    "\n",
    "assert result ** 2 >= test1.target and (result == test1.left or not (result - 1) ** 2 >= test1.target)"
   ]
  },
  {
   "attachments": {},
   "cell_type": "markdown",
   "metadata": {},
   "source": [
    "#### With predicate"
   ]
  },
  {
   "cell_type": "code",
   "execution_count": 125,
   "metadata": {},
   "outputs": [],
   "source": [
    "def binary_search_integers_with_predicate_function(left, right, target, predicate, function = lambda x : x):\n",
    "    L = left\n",
    "    R = right + 1\n",
    "    ans = -1\n",
    "    while L <= R:\n",
    "        mid = L + (R - L) // 2\n",
    "        if predicate(function(mid), target):\n",
    "            ans = mid\n",
    "            R = mid - 1\n",
    "        else:\n",
    "            L = mid + 1\n",
    "    return ans"
   ]
  },
  {
   "cell_type": "code",
   "execution_count": 126,
   "metadata": {},
   "outputs": [],
   "source": [
    "test1 = TestCaseForIntegers(left = 1, right = 10**5, target=678)\n",
    "\n",
    "# We are searching for the first integer whose sequare is greater-equal than target\n",
    "\n",
    "result = binary_search_integers_with_predicate_function(test1.left, test1.right, test1.target, operator.ge, lambda x : x**2)\n",
    "\n",
    "assert result ** 2 >= test1.target and (result == test1.left or not (result - 1) ** 2 >= test1.target)"
   ]
  }
 ],
 "metadata": {
  "kernelspec": {
   "display_name": "Python 3",
   "language": "python",
   "name": "python3"
  },
  "language_info": {
   "codemirror_mode": {
    "name": "ipython",
    "version": 3
   },
   "file_extension": ".py",
   "mimetype": "text/x-python",
   "name": "python",
   "nbconvert_exporter": "python",
   "pygments_lexer": "ipython3",
   "version": "3.10.8"
  },
  "orig_nbformat": 4
 },
 "nbformat": 4,
 "nbformat_minor": 2
}
