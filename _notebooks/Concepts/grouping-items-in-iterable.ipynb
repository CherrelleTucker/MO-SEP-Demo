{
 "cells": [
  {
   "attachments": {},
   "cell_type": "markdown",
   "metadata": {},
   "source": [
    "# Wrapping elements in iterable by function\n",
    "\n",
    "Sources:\n",
    "1. https://stackoverflow.com/questions/65415186/how-to-group-similar-numbers-with-condition-range\n",
    "2. https://stackoverflow.com/questions/15800895/finding-clusters-of-numbers-in-a-list/15801233#15801233\n",
    "3. https://stackoverflow.com/questions/773/how-do-i-use-itertools-groupby\n",
    "4. https://stackoverflow.com/questions/3992735/python-generator-that-groups-another-iterable-into-groups-of-n\n",
    "5. https://docs.python.org/3/library/functions.html#iter\n",
    "6. https://stackoverflow.com/questions/31164731/python-chunking-csv-file-multiproccessing/31170795#31170795\n",
    "7. https://stackoverflow.com/questions/46752146/take-sequence-of-values-from-a-python-list/46752214#46752214\n",
    "8. https://docs.python.org/3/library/itertools.html#itertools.groupby"
   ]
  },
  {
   "attachments": {},
   "cell_type": "markdown",
   "metadata": {},
   "source": [
    "## Option 1: Stream approach"
   ]
  },
  {
   "cell_type": "code",
   "execution_count": 2,
   "metadata": {},
   "outputs": [
    {
     "name": "stdout",
     "output_type": "stream",
     "text": [
      "{1: [123, 124, 128], 2: [160, 167], 3: [213, 215, 230, 245, 255, 257], 4: [400, 401, 402], 5: [430]}\n"
     ]
    }
   ],
   "source": [
    "def condition(item, prev):\n",
    "    return item - prev <= 15\n",
    "\n",
    "def grouper_by_stream(iterable, function):\n",
    "    prev = None\n",
    "    group = []\n",
    "    for item in iterable:\n",
    "        if prev is None or function(item, prev):\n",
    "            group.append(item)\n",
    "        else:\n",
    "            yield group\n",
    "            group = [item]\n",
    "        prev = item\n",
    "    if group:\n",
    "        yield group\n",
    "\n",
    "numbers = [123, 124, 128, 160, 167, 213, 215, 230, 245, 255, 257, 400, 401, 402, 430]\n",
    "result = dict(enumerate(grouper_by_stream(numbers, condition), 1))\n",
    "\n",
    "print(result)"
   ]
  },
  {
   "cell_type": "code",
   "execution_count": 1,
   "metadata": {},
   "outputs": [
    {
     "name": "stdout",
     "output_type": "stream",
     "text": [
      "{1: [123, 124, 128], 2: [160, 167], 3: [213, 215, 230, 245, 255, 257], 4: [400, 401, 402], 5: [430]}\n"
     ]
    }
   ],
   "source": [
    "numbers = [123, 124, 128, 160, 167, 213, 215, 230, 245, 255, 257, 400, 401, 402, 430]\n",
    "\n",
    "def cut_indices(numbers):\n",
    "    # this function iterate over the indices that need to be 'cut'\n",
    "    for i in range(len(numbers)-1):\n",
    "        if numbers[i+1] - numbers[i] > 15:\n",
    "            yield i+1\n",
    "\n",
    "def splitter(numbers):\n",
    "    # this function split the original list into sublists.\n",
    "    px = 0\n",
    "    for x in cut_indices(numbers):\n",
    "        yield numbers[px:x]\n",
    "        px = x\n",
    "    yield numbers[px:]\n",
    "\n",
    "def cluster(numbers):\n",
    "    # using the above result, to form a dict object.\n",
    "    cluster_ids = range(1,len(numbers))\n",
    "    return dict(zip(cluster_ids, splitter(numbers)))\n",
    "\n",
    "result = cluster(numbers)\n",
    "\n",
    "print(result)"
   ]
  },
  {
   "attachments": {},
   "cell_type": "markdown",
   "metadata": {},
   "source": [
    "## Option 2: General Approach"
   ]
  },
  {
   "attachments": {},
   "cell_type": "markdown",
   "metadata": {},
   "source": [
    "### Non-Stream Approach with generator\n",
    "\n",
    "A non-stream approach would not go hand-in-hand with a generator because a generator traverses iterables element-by-element, which is, by definition, a stream approach."
   ]
  },
  {
   "cell_type": "code",
   "execution_count": null,
   "metadata": {},
   "outputs": [],
   "source": [
    "def grouper_by_general_condition(iterable, function):\n",
    "    group = []\n",
    "    for item in iterable:\n",
    "        if function(item):\n",
    "            group.append(item)\n",
    "        else:\n",
    "            yield group\n",
    "            group = [item] # Why?\n",
    "    if group:\n",
    "        yield group"
   ]
  },
  {
   "attachments": {},
   "cell_type": "markdown",
   "metadata": {},
   "source": [
    "### Non-Stream Approach without generators\n",
    "\n",
    "A non-stream non-generator approach can be implemented using the `itertools` module."
   ]
  },
  {
   "attachments": {},
   "cell_type": "markdown",
   "metadata": {},
   "source": [
    "#### Chunking"
   ]
  },
  {
   "cell_type": "code",
   "execution_count": 16,
   "metadata": {},
   "outputs": [
    {
     "name": "stdout",
     "output_type": "stream",
     "text": [
      "[(0, 1), (1, 2), (2, 3), (3, 4), (4, 5), (5, 6)]\n",
      "[[0, 1, 2], [3, 4, 5], [6]]\n",
      "[(0, 1, 2), (3, 4, 5), (6, 'x', 'x')]\n"
     ]
    }
   ],
   "source": [
    "import itertools\n",
    "\n",
    "def group_iterables_in_pairs(iterable):\n",
    "    return list(itertools.pairwise(iterable))\n",
    "\n",
    "sequence = list(range(7))\n",
    "target = group_iterables_in_pairs(sequence)\n",
    "\n",
    "print(target)\n",
    "\n",
    "# Grouping without padding\n",
    "def grouper_without_padding(n, iterable):\n",
    "    it = iter(iterable)\n",
    "    return iter(lambda: list(itertools.islice(it, n)), [])\n",
    "\n",
    "target = list(grouper_without_padding(3, sequence))\n",
    "\n",
    "print(target)\n",
    "\n",
    "# Grouping with padding\n",
    "def grouper_with_padding(n, iterable):\n",
    "    it = iter(iterable)\n",
    "    return itertools.zip_longest(*[it]*n, fillvalue='x')\n",
    "                                 \n",
    "target = list(grouper_with_padding(3, sequence))\n",
    "# target = list(itertools.zip_longest(*[iter(sequence)]*3, fillvalue='x'))\n",
    "\n",
    "print(target)\n"
   ]
  },
  {
   "cell_type": "code",
   "execution_count": 19,
   "metadata": {},
   "outputs": [
    {
     "name": "stdout",
     "output_type": "stream",
     "text": [
      "[<list_iterator object at 0x000001A8579ADF90>, <list_iterator object at 0x000001A8579ADF90>, <list_iterator object at 0x000001A8579ADF90>]\n"
     ]
    }
   ],
   "source": [
    "# Under the hood\n",
    "sequence = list(range(7))\n",
    "a = [iter(sequence)]*3\n",
    "print(a)"
   ]
  },
  {
   "attachments": {},
   "cell_type": "markdown",
   "metadata": {},
   "source": [
    "##### Explanation: Diving to `grouper_with_padding()`\n",
    "\n",
    "1. `[iter(sequence)]*3` gives us the same iterator 3 times!\n",
    "2. This iterator goes over the entire sequence.\n",
    "3. `*[iter(sequence)]*3` flattens the iterators in order.\n",
    "4. Now, Zipping occurs.\n",
    "\n",
    "The zipping process:\n",
    "Notice that:\n",
    "* Since we have 3 iterables going into the method, this is a generator of 3-tuples.\n",
    "* Since we have 3 iterables which are all the same iterator.\n",
    "\n",
    "This creates a very interesting behavior:\n",
    "1. When we take the first element of the iterator, that element is gone.\n",
    "2. The first element in this iterator is now the second element.\n",
    "3. But all our iterables arguments are the same iterator!\n",
    "4. Hence, the first element in the second iterator is the originally second element in the list.\n",
    "5. We thus add the second element to the current tuple, where the first element is first.\n",
    "6. According to the same logic, the last element in the tuple is now the third element!\n",
    "\n",
    "This goes on until the generator is exhausted.\n",
    "\n",
    "If we still need elements for the last tuple, we use a fillvalue."
   ]
  },
  {
   "attachments": {},
   "cell_type": "markdown",
   "metadata": {},
   "source": [
    "#### Group by break function: Existing element"
   ]
  },
  {
   "cell_type": "code",
   "execution_count": 17,
   "metadata": {},
   "outputs": [
    {
     "name": "stdout",
     "output_type": "stream",
     "text": [
      "[[3, 2, 5], [4, 5, 6, 3], [4, 5], [5], [4], [6]]\n"
     ]
    }
   ],
   "source": [
    "from itertools import groupby\n",
    "\n",
    "def break_function(x):\n",
    "    return x < 7\n",
    "\n",
    "def group_by_break_function(sequence, function):\n",
    "    return [list(g) for k, g in groupby(sequence, function) if k]\n",
    "\n",
    "\n",
    "sequence = [3,2,5,7,4,5,6,3,8,4,5,7,8,9,5,7,8,4,9,7,6]\n",
    "\n",
    "# [list(g) for k, g in groupby(a, lambda x:x<7) if k]\n",
    "target = group_by_break_function(sequence, break_function)\n",
    "\n",
    "print(target)"
   ]
  },
  {
   "cell_type": "code",
   "execution_count": 20,
   "metadata": {},
   "outputs": [
    {
     "name": "stdout",
     "output_type": "stream",
     "text": [
      "[(True, [3, 2, 5]), (False, [7]), (True, [4, 5, 6, 3]), (False, [8]), (True, [4, 5]), (False, [7, 8, 9]), (True, [5]), (False, [7, 8]), (True, [4]), (False, [9, 7]), (True, [6])]\n"
     ]
    }
   ],
   "source": [
    "# Under the hood\n",
    "a = [3,2,5,7,4,5,6,3,8,4,5,7,8,9,5,7,8,4,9,7,6]\n",
    "\n",
    "result = [(k,list(g)) for k, g in groupby(a, lambda x:x<7)]\n",
    "\n",
    "print(result)\n"
   ]
  },
  {
   "attachments": {},
   "cell_type": "markdown",
   "metadata": {},
   "source": [
    "##### Explanation: Diving to `groupby()`\n",
    "This is a great example for:\n",
    "* When sorting should not always happen on a sequence before using `groupby()`.\n",
    "* Where `SQL's GROUPBY` differs from `Python's groupby()`\n",
    "\n",
    "`SQL's GROUPBY` does not care about the order of keys. As the Python docs states, \"it aggreates common elements regardless of their input order\".\n",
    "\n",
    "However, notice what happens here - The keys are from `Python's groupby()` are allowed to not be unique! \n",
    "\n",
    "This allows to to group elements in a sequence according to any function we want, as long as we put a \"barrier\" between chunks, for which the grouping function returns `False`. Beautiful!\n"
   ]
  },
  {
   "attachments": {},
   "cell_type": "markdown",
   "metadata": {},
   "source": [
    "#### Other groupby use cases\n",
    "\n",
    "See: https://stackoverflow.com/a/45873519/8552542"
   ]
  },
  {
   "attachments": {},
   "cell_type": "markdown",
   "metadata": {},
   "source": [
    "#### Group by break function: Indices"
   ]
  },
  {
   "cell_type": "code",
   "execution_count": 3,
   "metadata": {},
   "outputs": [
    {
     "name": "stdout",
     "output_type": "stream",
     "text": [
      "[[3, 2, 5, 7, 4], [5], [6], [3], [8], [4], [5, 7, 8, 9, 5, 7, 8, 4, 9, 7, 6]]\n"
     ]
    }
   ],
   "source": [
    "from itertools import groupby\n",
    "\n",
    "a = [3,2,5,7,4,5,6,3,8,4,5,7,8,9,5,7,8,4,9,7,6]\n",
    "indices_list = [5,7,9]\n",
    "indices_set = set(indices_list)\n",
    "\n",
    "result = [[x for _,x in list(g)] for _, g in groupby(enumerate(a), lambda x :x[0] in indices_set)]\n",
    "\n",
    "print(result)"
   ]
  }
 ],
 "metadata": {
  "kernelspec": {
   "display_name": "Python 3",
   "language": "python",
   "name": "python3"
  },
  "language_info": {
   "codemirror_mode": {
    "name": "ipython",
    "version": 3
   },
   "file_extension": ".py",
   "mimetype": "text/x-python",
   "name": "python",
   "nbconvert_exporter": "python",
   "pygments_lexer": "ipython3",
   "version": "3.10.8"
  },
  "orig_nbformat": 4
 },
 "nbformat": 4,
 "nbformat_minor": 2
}
