{
 "cells": [
  {
   "attachments": {},
   "cell_type": "markdown",
   "metadata": {},
   "source": [
    "## Sources\n",
    "1. https://stackoverflow.com/questions/6260089/strange-result-when-removing-item-from-a-list-while-iterating-over-it\n",
    "2. https://stackoverflow.com/questions/1637807/modifying-list-while-iterating"
   ]
  },
  {
   "attachments": {},
   "cell_type": "markdown",
   "metadata": {},
   "source": [
    "### Example 1\n",
    "Here we demonstrate the effect of changing an iterable in an iterator loop body on the traversing iterator. \n",
    "We print everything for convenience."
   ]
  },
  {
   "cell_type": "code",
   "execution_count": 2,
   "metadata": {},
   "outputs": [
    {
     "name": "stdout",
     "output_type": "stream",
     "text": [
      "Iteration 1\n",
      "List: \n",
      "[0, 1, 2, 3, 4, 5, 6, 7, 8, 9]\n",
      "Iterator value: 0\n",
      "Element pop: 0\n",
      "List: \n",
      "[1, 2, 3, 4, 5, 6, 7, 8, 9]\n",
      "Element pop: 1\n",
      "List: \n",
      "[2, 3, 4, 5, 6, 7, 8, 9]\n",
      "\n",
      "Iteration 2\n",
      "List: \n",
      "[2, 3, 4, 5, 6, 7, 8, 9]\n",
      "Iterator value: 3\n",
      "Element pop: 2\n",
      "List: \n",
      "[3, 4, 5, 6, 7, 8, 9]\n",
      "Element pop: 3\n",
      "List: \n",
      "[4, 5, 6, 7, 8, 9]\n",
      "\n",
      "Iteration 3\n",
      "List: \n",
      "[4, 5, 6, 7, 8, 9]\n",
      "Iterator value: 6\n",
      "Element pop: 4\n",
      "List: \n",
      "[5, 6, 7, 8, 9]\n",
      "Element pop: 5\n",
      "List: \n",
      "[6, 7, 8, 9]\n",
      "\n",
      "Iteration 4\n",
      "List: \n",
      "[6, 7, 8, 9]\n",
      "Iterator value: 9\n",
      "Element pop: 6\n",
      "List: \n",
      "[7, 8, 9]\n",
      "Element pop: 7\n",
      "List: \n",
      "[8, 9]\n",
      "\n"
     ]
    }
   ],
   "source": [
    "l = list(range(10))\n",
    "\n",
    "index = 1\n",
    "for i in l:\n",
    "    print(f'Iteration {index}')\n",
    "    index += 1\n",
    "    \n",
    "    print(f'List: \\n{l}')\n",
    "    print(f'Iterator value: {i}')\n",
    "    print(f'Element pop: {l.pop(0)}')\n",
    "\n",
    "    print(f'List: \\n{l}')\n",
    "    print(f'Element pop: {l.pop(0)}')\n",
    "\n",
    "    print(f'List: \\n{l}')\n",
    "    print()\n",
    "\n"
   ]
  },
  {
   "attachments": {},
   "cell_type": "markdown",
   "metadata": {},
   "source": [
    "#### Analysis\n",
    "\n",
    "Notice:\n",
    "* The iterator `i` does not communicate with the list `l`.\n",
    "* Thus, when the iterable `l` changed in iteration 2, the iterator does not care - it still points to the second element in the iterable.\n",
    "* This means that in the second iteration, our iterator points at `3` even though it was originally the 4th element in `l`, simply because it is now the second element in `l`, and the iterator proceeds according to the order of iteration.\n"
   ]
  },
  {
   "attachments": {},
   "cell_type": "markdown",
   "metadata": {},
   "source": [
    "### Example 2: Variation\n",
    "\n",
    "Let's examine the effect of changing the iterable inside the iterator loop body on the traversing iterator using a variant iterator."
   ]
  },
  {
   "cell_type": "code",
   "execution_count": 3,
   "metadata": {},
   "outputs": [
    {
     "name": "stdout",
     "output_type": "stream",
     "text": [
      "Iteration 0\n",
      "List: \n",
      "[0, 1, 2, 3, 4, 5, 6, 7, 8, 9]\n",
      "Iterator index: 0\n",
      "Iterator value: 0\n",
      "Element pop: 0\n",
      "List: \n",
      "[1, 2, 3, 4, 5, 6, 7, 8, 9]\n",
      "Element pop: 1\n",
      "List: \n",
      "[2, 3, 4, 5, 6, 7, 8, 9]\n",
      "\n",
      "Iteration 1\n",
      "List: \n",
      "[2, 3, 4, 5, 6, 7, 8, 9]\n",
      "Iterator index: 1\n",
      "Iterator value: 3\n",
      "Element pop: 2\n",
      "List: \n",
      "[3, 4, 5, 6, 7, 8, 9]\n",
      "Element pop: 3\n",
      "List: \n",
      "[4, 5, 6, 7, 8, 9]\n",
      "\n",
      "Iteration 2\n",
      "List: \n",
      "[4, 5, 6, 7, 8, 9]\n",
      "Iterator index: 2\n",
      "Iterator value: 6\n",
      "Element pop: 4\n",
      "List: \n",
      "[5, 6, 7, 8, 9]\n",
      "Element pop: 5\n",
      "List: \n",
      "[6, 7, 8, 9]\n",
      "\n",
      "Iteration 3\n",
      "List: \n",
      "[6, 7, 8, 9]\n",
      "Iterator index: 3\n",
      "Iterator value: 9\n",
      "Element pop: 6\n",
      "List: \n",
      "[7, 8, 9]\n",
      "Element pop: 7\n",
      "List: \n",
      "[8, 9]\n",
      "\n"
     ]
    }
   ],
   "source": [
    "l = list(range(10))\n",
    "\n",
    "for index, elem in enumerate(l):\n",
    "    print(f'Iteration {index}')\n",
    "    \n",
    "    print(f'List: \\n{l}')\n",
    "    print(f'Iterator index: {index}')\n",
    "    print(f'Iterator value: {elem}')\n",
    "    print(f'Element pop: {l.pop(0)}')\n",
    "\n",
    "    print(f'List: \\n{l}')\n",
    "    print(f'Element pop: {l.pop(0)}')\n",
    "\n",
    "    print(f'List: \\n{l}')\n",
    "    print()\n",
    "\n"
   ]
  },
  {
   "attachments": {},
   "cell_type": "markdown",
   "metadata": {},
   "source": [
    "#### Analysis\n",
    "\n",
    "Here we see exactly the \"ignorance\" of the iterator according to the `index` variable: \n",
    "* The iterator does as its supposed to: Element 1 -> Element 2 -> ... -> Itarble End\n",
    "* Changing `l` does not affect the iterator traversal, but it can affect what the iterator finds in those positions."
   ]
  }
 ],
 "metadata": {
  "kernelspec": {
   "display_name": "Python 3",
   "language": "python",
   "name": "python3"
  },
  "language_info": {
   "codemirror_mode": {
    "name": "ipython",
    "version": 3
   },
   "file_extension": ".py",
   "mimetype": "text/x-python",
   "name": "python",
   "nbconvert_exporter": "python",
   "pygments_lexer": "ipython3",
   "version": "3.10.8"
  },
  "orig_nbformat": 4,
  "vscode": {
   "interpreter": {
    "hash": "8d8353be1dd092e57b3f2779bafc40fd4a1c87861698b48ff47a5f1df7325f59"
   }
  }
 },
 "nbformat": 4,
 "nbformat_minor": 2
}
