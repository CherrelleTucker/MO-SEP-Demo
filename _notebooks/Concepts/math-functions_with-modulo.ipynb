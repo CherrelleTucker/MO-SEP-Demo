{
 "cells": [
  {
   "attachments": {},
   "cell_type": "markdown",
   "metadata": {},
   "source": [
    "# Math functions (with modulo)\n",
    "\n",
    "Sources:\n",
    "1. Book : Competitive Programming in Python by Durr, Vie\n",
    "2. https://docs.python.org/3/library/math.html\n",
    "3. https://en.wikipedia.org/wiki/B%C3%A9zout%27s_identity\n",
    "4. https://en.wikipedia.org/wiki/Extended_Euclidean_algorithm\n",
    "5. https://codeforces.com/blog/entry/78873\n",
    "6. https://cp-algorithms.com/algebra/factorial-modulo.html#algorithm\n"
   ]
  },
  {
   "cell_type": "code",
   "execution_count": 1,
   "metadata": {},
   "outputs": [],
   "source": [
    "import math"
   ]
  },
  {
   "attachments": {},
   "cell_type": "markdown",
   "metadata": {},
   "source": [
    "## Greatest Common Divisor (GCD)"
   ]
  },
  {
   "attachments": {},
   "cell_type": "markdown",
   "metadata": {},
   "source": [
    "### Details and Implementation\n",
    "\n",
    "To calculate `gcd` for two numbers, `a,b`, we can use the Euclidean Algorithm. However, there's a built-in implemenation for the calculation of `gcd(a,b)` in Python.\n",
    "\n",
    "Python docs function signature: `math.gcd(*integers)`\n",
    "\n",
    "More information:\n",
    "* Return the greatest common divisor of the specified integer arguments (we can have more than 2). \n",
    "* If any of the arguments is nonzero, then the returned value is the largest positive integer that is a divisor of all arguments. \n",
    "* If all arguments are zero, then the returned value is 0. \n",
    "* gcd() without arguments returns 0."
   ]
  },
  {
   "cell_type": "code",
   "execution_count": 2,
   "metadata": {},
   "outputs": [
    {
     "name": "stdout",
     "output_type": "stream",
     "text": [
      "4\n",
      "4\n",
      "1\n"
     ]
    }
   ],
   "source": [
    "print(math.gcd(4, 8))\n",
    "print(math.gcd(4,8,12))\n",
    "print(math.gcd(4,8,7))"
   ]
  },
  {
   "attachments": {},
   "cell_type": "markdown",
   "metadata": {},
   "source": [
    "## Bezout Coefficients\n",
    "* The Euclidean Algorithm takes two numbers `a,b` and calculates `gcd(a,b)`.\n",
    "* The Extended Euclidean Algorithm takes two numbers `a,b` and calculates the triplet `u,v,gcd(a,b)` such that `a*u+b*v=gcd(a,b)`.\n",
    "* `u,v` are called Bezout Coefficients.\n"
   ]
  },
  {
   "cell_type": "code",
   "execution_count": 3,
   "metadata": {},
   "outputs": [],
   "source": [
    "def bezout(a, b):\n",
    "    if b == 0:\n",
    "        return (1, 0)\n",
    "    u, v = bezout(b, a % b)\n",
    "    return (v, u - (a // b) * v)"
   ]
  },
  {
   "cell_type": "code",
   "execution_count": 4,
   "metadata": {},
   "outputs": [
    {
     "name": "stdout",
     "output_type": "stream",
     "text": [
      "(-3, 1)\n",
      "We need a*u + b*v = gcd(a,b). We should have: 12*(-3) + 42*(1) = 6\n",
      "We have 12*(-3) + 42*1 = 6 = math.gcd(12,42)\n"
     ]
    }
   ],
   "source": [
    "a = 12\n",
    "b = 42\n",
    "print(bezout(a, b))\n",
    "u,v = bezout(a, b)\n",
    "\n",
    "print(f'We need a*u + b*v = gcd(a,b). We should have: {a}*({u}) + {b}*({v}) = {math.gcd(a,b)}')\n",
    "print(f'We have {a}*({u}) + {b}*{v} = {a*u + b*v} = math.gcd({a},{b})')\n"
   ]
  },
  {
   "attachments": {},
   "cell_type": "markdown",
   "metadata": {},
   "source": [
    "## Extended Euclidean Algorithm\n",
    "We can combine the two function above to get the Extended Euclidean Algorithm"
   ]
  },
  {
   "cell_type": "code",
   "execution_count": 5,
   "metadata": {},
   "outputs": [],
   "source": [
    "def extended_euclidean_algorithm(a,b):\n",
    "    u,v = bezout(a,b)\n",
    "    return (u,v,math.gcd(a,b))"
   ]
  },
  {
   "cell_type": "code",
   "execution_count": 6,
   "metadata": {},
   "outputs": [
    {
     "name": "stdout",
     "output_type": "stream",
     "text": [
      "(-3, 1, 6)\n"
     ]
    }
   ],
   "source": [
    "a = 12\n",
    "b = 42\n",
    "print(extended_euclidean_algorithm(a,b))"
   ]
  },
  {
   "attachments": {},
   "cell_type": "markdown",
   "metadata": {},
   "source": [
    "## Variant: Dealing with modulo\n",
    "Quoting the book [source 2]:\n",
    "\n",
    "Certain problems involve the calculation of extremely large numbers. Consequently,they require a response modulo a large prime number `p` in order to test if the solution is correct.\n",
    "\n",
    "Since `p` is prime, we can easily divide by an integer a non-multiple of `p` as follows: \n",
    "* `a` and `p` are relatively prime.\n",
    "* Hence, their Bézout coefficients satisfy `au+pv = 1`.\n",
    "* hence, `au = 1 (mod(p))`.\n",
    "* Hence, `u` is the inverse of `a`. \n",
    "* Hence, to divide by `a`, we can instead multiply by `u (mod(p))`.\n",
    "\n",
    "Thus, leveraging modular combinatrics, multiplying by `inv(a,p)` is analogous to dividing by `a`.\n",
    "\n",
    "I think more explanation about this can be found in source 5."
   ]
  },
  {
   "cell_type": "code",
   "execution_count": 7,
   "metadata": {},
   "outputs": [],
   "source": [
    "def inv(a, p):\n",
    "    return bezout(a, p)[0] % p"
   ]
  },
  {
   "cell_type": "code",
   "execution_count": 8,
   "metadata": {},
   "outputs": [
    {
     "name": "stdout",
     "output_type": "stream",
     "text": [
      "4\n",
      "(-3, 343)\n"
     ]
    }
   ],
   "source": [
    "a = 800\n",
    "p = 7\n",
    "\n",
    "print(inv(a,p))\n",
    "print(bezout(a,p))\n",
    "\n",
    "# We can see that `inv(a,p)` gives us `u (mod(p))`."
   ]
  },
  {
   "attachments": {},
   "cell_type": "markdown",
   "metadata": {},
   "source": [
    "## Factorial"
   ]
  },
  {
   "attachments": {},
   "cell_type": "markdown",
   "metadata": {},
   "source": [
    "### Single calculation without modulo\n",
    "Python docs function signature: `math.factorial(n)`\n",
    "\n",
    "More information:\n",
    "* Returns `n!` as an integer. \n",
    "* Raises ValueError if `n` is not integral or is negative.\n",
    "* Deprecated since version 3.9: Accepting floats with integral values (like 5.0) is deprecated.\n"
   ]
  },
  {
   "cell_type": "code",
   "execution_count": 9,
   "metadata": {},
   "outputs": [
    {
     "name": "stdout",
     "output_type": "stream",
     "text": [
      "3! = 6\n",
      "4! = 24\n"
     ]
    }
   ],
   "source": [
    "print(f'3! = {math.factorial(3)}')\n",
    "print(f'4! = {math.factorial(4)}')"
   ]
  },
  {
   "attachments": {},
   "cell_type": "markdown",
   "metadata": {},
   "source": [
    "### Single calculation with modulo\n",
    "According to source 6."
   ]
  },
  {
   "cell_type": "code",
   "execution_count": 10,
   "metadata": {},
   "outputs": [],
   "source": [
    "def factmod(n, p):\n",
    "    # Precompute the factorials 0!, 1!, ..., (p-1)! and insert them to array\n",
    "    array = [0] * p\n",
    "    array[0] = 1\n",
    "    for i in range(1,p):\n",
    "        array[i] = (array[i-1] * i) % p\n",
    "\n",
    "    # Follows the logic explained in source 6\n",
    "    res = 1;\n",
    "    while (n > 1):\n",
    "        if ((n//p) % 2):\n",
    "            res = p - res # multiplication by -1 (mod(p))\n",
    "        res = res * array[n%p] % p\n",
    "        n = n // p\n",
    "    \n",
    "    return res;"
   ]
  },
  {
   "cell_type": "code",
   "execution_count": 11,
   "metadata": {},
   "outputs": [
    {
     "name": "stdout",
     "output_type": "stream",
     "text": [
      "2\n",
      "3\n",
      "1\n"
     ]
    }
   ],
   "source": [
    "print(factmod(4,3))\n",
    "print(factmod(4,7))\n",
    "print(factmod(2,2))"
   ]
  },
  {
   "attachments": {},
   "cell_type": "markdown",
   "metadata": {},
   "source": [
    "### Array calculation without modulo\n",
    "We create an array, denoted `fact[]` such that `fact[i]` contains `i!`."
   ]
  },
  {
   "cell_type": "code",
   "execution_count": 12,
   "metadata": {},
   "outputs": [],
   "source": [
    "def get_factorial_array_until_n(n):\n",
    "    array = [1] * n\n",
    "    for i in range(1,n):\n",
    "        array[i] = array[i-1] * i\n",
    "    return array"
   ]
  },
  {
   "cell_type": "code",
   "execution_count": 13,
   "metadata": {},
   "outputs": [
    {
     "name": "stdout",
     "output_type": "stream",
     "text": [
      "[1, 1, 2, 6, 24]\n"
     ]
    }
   ],
   "source": [
    "print(get_factorial_array_until_n(5))"
   ]
  },
  {
   "attachments": {},
   "cell_type": "markdown",
   "metadata": {},
   "source": [
    "### Array calculation with modulo\n",
    "I did two attempts:\n",
    "1. Brute force. This did not take into account source 6.\n",
    "2. Building on the discussion in source 6, with its implementation of `factmod(n,p)`."
   ]
  },
  {
   "attachments": {},
   "cell_type": "markdown",
   "metadata": {},
   "source": [
    "#### Attempt 1\n",
    "From source 6, I think there should be a better way of doing this:\n",
    "* I should be able to do this without going all the way to `n`.\n",
    "* I should be able to do this going upto `min(n,k)`."
   ]
  },
  {
   "cell_type": "code",
   "execution_count": 14,
   "metadata": {},
   "outputs": [],
   "source": [
    "def get_factorial_modulo_array_until_n(n, p):\n",
    "    array = [1] * n\n",
    "    for i in range(1,n):\n",
    "        array[i] = (array[i-1] * i) % p\n",
    "    return array"
   ]
  },
  {
   "attachments": {},
   "cell_type": "markdown",
   "metadata": {},
   "source": [
    "#### Attempt 2\n",
    "It seems like the calculation of `factmod` only extracts all the necessary memoization we need.\n",
    "\n",
    "Thus, we just need a small refactoring for the memoization part, and we are okay."
   ]
  },
  {
   "cell_type": "code",
   "execution_count": 15,
   "metadata": {},
   "outputs": [],
   "source": [
    "def calculate_array_factorial_with_modulo_until_p(p):\n",
    "    array = [0] * p\n",
    "    array[0] = 1\n",
    "    for i in range(1,p):\n",
    "        array[i] = (array[i-1] * i) % p\n",
    "    return array\n",
    "\n",
    "def calculate_factmod_with_array(n, p, array):\n",
    "    # Follows the logic explained in source 6\n",
    "    res = 1;\n",
    "    while (n > 1):\n",
    "        if ((n//p) % 2):\n",
    "            res = p - res # multiplication by -1 (mod(p))\n",
    "        res = res * array[n%p] % p\n",
    "        n = n // p\n",
    "    \n",
    "    return res;\n",
    "\n",
    "def get_factorial_modulo_array_until_n(n, p):\n",
    "    target = [0] * (n+1)\n",
    "    fact_mod_array_until_p = calculate_array_factorial_with_modulo_until_p(p)\n",
    "\n",
    "    for i in range(n+1):\n",
    "        target[i] = calculate_factmod_with_array(i, p, fact_mod_array_until_p)\n",
    "\n",
    "    return target\n"
   ]
  },
  {
   "cell_type": "code",
   "execution_count": 16,
   "metadata": {},
   "outputs": [
    {
     "name": "stdout",
     "output_type": "stream",
     "text": [
      "1\n",
      "1\n",
      "2\n",
      "2\n",
      "2\n",
      "1\n"
     ]
    }
   ],
   "source": [
    "print(factmod(0,3))\n",
    "print(factmod(1,3))\n",
    "print(factmod(2,3))\n",
    "print(factmod(3,3))\n",
    "print(factmod(4,3))\n",
    "print(factmod(5,3))\n"
   ]
  },
  {
   "cell_type": "code",
   "execution_count": 17,
   "metadata": {},
   "outputs": [
    {
     "name": "stdout",
     "output_type": "stream",
     "text": [
      "[1, 1, 2, 2, 2, 1]\n"
     ]
    }
   ],
   "source": [
    "print(get_factorial_modulo_array_until_n(5,3))"
   ]
  },
  {
   "cell_type": "code",
   "execution_count": 18,
   "metadata": {},
   "outputs": [],
   "source": [
    "assert [factmod(i,3) for i in range(6)] == get_factorial_modulo_array_until_n(5,3)"
   ]
  },
  {
   "attachments": {},
   "cell_type": "markdown",
   "metadata": {},
   "source": [
    "## Binomial Coefficients"
   ]
  },
  {
   "attachments": {},
   "cell_type": "markdown",
   "metadata": {},
   "source": [
    "###  Without modulo\n",
    "Python docs function signature: `math.comb(n,k)`\n",
    "\n",
    "More information:\n",
    "* Returns the number of ways to choose k items from n items without repetition and without order.\n",
    "* Evaluates to `n! / (k! * (n - k)!)` when `k <= n` and evaluates to zero when `k > n`.\n",
    "* Also called the binomial coefficient because it is equivalent to the coefficient of k-th term in polynomial expansion of `(1 + x)ⁿ`."
   ]
  },
  {
   "cell_type": "code",
   "execution_count": 19,
   "metadata": {},
   "outputs": [
    {
     "name": "stdout",
     "output_type": "stream",
     "text": [
      "3\n",
      "0\n",
      "6\n"
     ]
    }
   ],
   "source": [
    "print(math.comb(3, 2))\n",
    "print(math.comb(2, 3))\n",
    "print(math.comb(4, 2))"
   ]
  },
  {
   "attachments": {},
   "cell_type": "markdown",
   "metadata": {},
   "source": [
    "### With modulo\n",
    "There are two approaches mentioned in the book [source 2]:\n",
    "1. Using loop, and leveraging the inverse function `inv(a)`. \n",
    "2. Using Dynamic Programming (DP). This can be implemented using Pascal's Triangle.\n",
    "\n",
    "Which approach is better, assuming `k` is constant:\n",
    "1. Approach 1 should be used when we need to calculate `nCk (mod(p))` for a single `(n,k)` pair.\n",
    "2. Approach 2 should be used when we need to calculate `nCk (mod(p))` for multiple `(n,k)` pairs."
   ]
  },
  {
   "attachments": {},
   "cell_type": "markdown",
   "metadata": {},
   "source": [
    "#### Approach 1: Loop"
   ]
  },
  {
   "cell_type": "code",
   "execution_count": 20,
   "metadata": {},
   "outputs": [],
   "source": [
    "def binom_modulo_loop(n, k, p):\n",
    "    prod = 1\n",
    "    for i in range(k):\n",
    "        prod = (prod * (n-i) * inv(i+1, p)) % p\n",
    "    return prod"
   ]
  },
  {
   "attachments": {},
   "cell_type": "markdown",
   "metadata": {},
   "source": [
    "#### Approach 2: DP [TODO]\n"
   ]
  },
  {
   "cell_type": "code",
   "execution_count": 21,
   "metadata": {},
   "outputs": [],
   "source": [
    "# TODO"
   ]
  },
  {
   "attachments": {},
   "cell_type": "markdown",
   "metadata": {},
   "source": [
    "## Final Notes"
   ]
  },
  {
   "attachments": {},
   "cell_type": "markdown",
   "metadata": {},
   "source": [
    "## Motivation\n",
    "\n",
    "The following problem in leetcode got me to write this notebook: https://leetcode.com/problems/number-of-dice-rolls-with-target-sum/description/\n",
    "\n",
    "In it:\n",
    "* We have `n` dice\n",
    "* Each die has `k` sides numberd from `1` to `k`.\n",
    "* We need to find the number of ways to roll the dice, so the sum of the face-up numbers equals `target`.\n",
    "* As input, we receive `(n, k, target)`.\n",
    "\n",
    "Solutins:\n",
    "1. The official solution uses memoization and DP. \n",
    "2. There is also a mathematical solution.\n",
    "\n",
    "I set out to write the mathematical solution to the problem, following directions from the following references:\n",
    "1. https://math.stackexchange.com/questions/107329/ways-of-getting-a-number-with-n-dice-each-with-k-sides\n",
    "2. https://mathworld.wolfram.com/Dice.html\n",
    "\n",
    "And I did it(!):\n",
    "https://leetcode.com/problems/number-of-dice-rolls-with-target-sum/submissions/911465342/"
   ]
  }
 ],
 "metadata": {
  "kernelspec": {
   "display_name": "Python 3",
   "language": "python",
   "name": "python3"
  },
  "language_info": {
   "codemirror_mode": {
    "name": "ipython",
    "version": 3
   },
   "file_extension": ".py",
   "mimetype": "text/x-python",
   "name": "python",
   "nbconvert_exporter": "python",
   "pygments_lexer": "ipython3",
   "version": "3.10.8"
  },
  "orig_nbformat": 4
 },
 "nbformat": 4,
 "nbformat_minor": 2
}
