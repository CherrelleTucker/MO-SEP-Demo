{
 "cells": [
  {
   "attachments": {},
   "cell_type": "markdown",
   "metadata": {},
   "source": [
    "# flattening elements in hierarchical iterable containers\n",
    "\n",
    "Sources:\n",
    "1. https://docs.python.org/3/library/itertools.html#itertools.chain\n",
    "2. https://stackoverflow.com/questions/2158395/flatten-an-irregular-arbitrarily-nested-list-of-lists\n",
    "3. http://simeonvisser.com/posts/python-3-using-yield-from-in-generators-part-1.html\n",
    "4. https://docs.python.org/3/library/collections.abc.html\n",
    "5. https://stackoverflow.com/questions/120886/python-idiom-to-chain-flatten-an-infinite-iterable-of-finite-iterables\n",
    "6. https://iteration-utilities.readthedocs.io/en/latest/index.html\n",
    "7. https://stackoverflow.com/questions/406121/flattening-a-shallow-list-in-python"
   ]
  },
  {
   "attachments": {},
   "cell_type": "markdown",
   "metadata": {},
   "source": [
    "The `itertools` python module takes care of this. Two methods help (Explanations for the methods are taken from the official Python docs, see source 1):\n",
    "\n",
    "1. `chain()`: Make an iterator that returns elements from the first iterable until it is exhausted, then proceeds to the next iterable, until all of the iterables are exhausted\n",
    "2. `chain.from_iterable()`: Alternate constructor for chain(). Gets chained inputs from a single iterable argument that is evaluated lazily."
   ]
  },
  {
   "attachments": {},
   "cell_type": "markdown",
   "metadata": {},
   "source": [
    "## Example for `itertools.chain()`"
   ]
  },
  {
   "cell_type": "code",
   "execution_count": 1,
   "metadata": {},
   "outputs": [
    {
     "name": "stdout",
     "output_type": "stream",
     "text": [
      "['a', 'b', 'c', 'd', 'e', 'f']\n"
     ]
    }
   ],
   "source": [
    "import itertools\n",
    "\n",
    "iterable1 = 'abc'\n",
    "iterable2 = 'def'\n",
    "iterables = [iterable1, iterable2]\n",
    "\n",
    "target = list(itertools.chain(*iterables))\n",
    "\n",
    "print(target)"
   ]
  },
  {
   "cell_type": "code",
   "execution_count": 2,
   "metadata": {},
   "outputs": [
    {
     "name": "stdout",
     "output_type": "stream",
     "text": [
      "['abc', 'def']\n"
     ]
    }
   ],
   "source": [
    "print(list(itertools.chain(iterables)))"
   ]
  },
  {
   "attachments": {},
   "cell_type": "markdown",
   "metadata": {},
   "source": [
    "## Example for `itertools.chain.from_iterable()`"
   ]
  },
  {
   "cell_type": "code",
   "execution_count": 4,
   "metadata": {},
   "outputs": [
    {
     "name": "stdout",
     "output_type": "stream",
     "text": [
      "['a', 'b', 'c', 'd', 'e', 'f']\n"
     ]
    }
   ],
   "source": [
    "import itertools\n",
    "\n",
    "iterable1 = 'abc'\n",
    "iterable2 = 'def'\n",
    "iterables = [iterable1, iterable2]\n",
    "\n",
    "target = list(itertools.chain.from_iterable(iterables))\n",
    "\n",
    "print(target)"
   ]
  },
  {
   "attachments": {},
   "cell_type": "markdown",
   "metadata": {},
   "source": [
    "##### Notice 1\n",
    "The last example hints towards the equivalence of `itertools.chain.from_iterable(iterables)` and `itertools.chain(*iterables)`"
   ]
  },
  {
   "attachments": {},
   "cell_type": "markdown",
   "metadata": {},
   "source": [
    "## Considering `itertools.chain.()` and `itertools.chain.from_iterable()`"
   ]
  },
  {
   "cell_type": "code",
   "execution_count": 8,
   "metadata": {},
   "outputs": [
    {
     "name": "stdout",
     "output_type": "stream",
     "text": [
      "iterables3 is [['abc', 'def'], ['abc', 'def']]\n",
      "['abc', 'def', 'abc', 'def']\n"
     ]
    }
   ],
   "source": [
    "import itertools\n",
    "\n",
    "iterable1 = 'abc'\n",
    "iterable2 = 'def'\n",
    "iterables1 = [iterable1, iterable2]\n",
    "iterables2 = [iterable1, iterable2]\n",
    "iterables3 = [iterables1, iterables2]\n",
    "\n",
    "print(f'iterables3 is {iterables3}')\n",
    "\n",
    "target = list(itertools.chain.from_iterable(iterables3))\n",
    "\n",
    "print(target)"
   ]
  },
  {
   "cell_type": "code",
   "execution_count": 10,
   "metadata": {},
   "outputs": [
    {
     "name": "stdout",
     "output_type": "stream",
     "text": [
      "iterables3 is [['abc', 'def'], ['abc', 'def']]\n",
      "['abc', 'def', 'abc', 'def']\n"
     ]
    }
   ],
   "source": [
    "import itertools\n",
    "\n",
    "iterable1 = 'abc'\n",
    "iterable2 = 'def'\n",
    "iterables1 = [iterable1, iterable2]\n",
    "iterables2 = [iterable1, iterable2]\n",
    "iterables3 = [iterables1, iterables2]\n",
    "\n",
    "print(f'iterables3 is {iterables3}')\n",
    "\n",
    "target = list(itertools.chain(*iterables3))\n",
    "\n",
    "print(target)"
   ]
  },
  {
   "attachments": {},
   "cell_type": "markdown",
   "metadata": {},
   "source": [
    "##### Notice 2\n",
    "This seems to strengthen the equivalence of `itertools.chain.from_iterable(iterables)` and `itertools.chain(*iterables)`"
   ]
  },
  {
   "attachments": {},
   "cell_type": "markdown",
   "metadata": {},
   "source": [
    "##### Insight 1\n",
    "It seems that `itertools.chain.from_iterable(iterables)` and `itertools.chain(*iterables)` both flatten exactly one level off an iterable.\n",
    "\n",
    "What happens when we want to use flattening all the way to the bottom?"
   ]
  },
  {
   "attachments": {},
   "cell_type": "markdown",
   "metadata": {},
   "source": [
    "## Flattening to the bottom\n",
    "\n",
    "We have:\n",
    "1. A list of iterables.\n",
    "2. A function that takes this list and flattens it 1 time.\n",
    "3. We can still have iterables as output from step 2.\n",
    "\n",
    "We want to find out how to gain flattening until no iterables are present anymore. In other words, we require a full decomposition of a possibly hierarchical iterable container.\n",
    "\n",
    "This problem can be generalized:\n",
    "* Say we have a given function that we know works `1` time.\n",
    "* We want it to work an arbitrary number of times"
   ]
  },
  {
   "attachments": {},
   "cell_type": "markdown",
   "metadata": {},
   "source": [
    "### Depth and Homogeneity\n",
    "* There's a concept of \"depth\" to the number of times the function can execute: If the function flattens one level of an iterable, the resulting components might not be iterables. Such is the case with the iterable `[1,2,3]` - After flattening, we get `1 2 3`. I don't think this applies to strings in Python3, since in Python3, single characters are considered strings.\n",
    "* We do not assume homogeneity. In other words, if the iterable has a member which is an iterable of depth `1` (as in `[1,2,3]`), then all members in the iterable are also iterable of depth `1`. This makes the encompassing iterable an iterable of depth `2`. We do not assume this as this seems to be redundant from the found solutions. Using list comprehensions, as discussed in source [7] only works for one level.\n",
    "\n"
   ]
  },
  {
   "attachments": {},
   "cell_type": "markdown",
   "metadata": {},
   "source": [
    "##### Checking Distinction\n",
    "Is there a difference between a single character and a string in Python3?"
   ]
  },
  {
   "cell_type": "code",
   "execution_count": 21,
   "metadata": {},
   "outputs": [
    {
     "name": "stdout",
     "output_type": "stream",
     "text": [
      "['a', 'b', 'c']\n",
      "['a']\n"
     ]
    }
   ],
   "source": [
    "# No distinction between single character strings and strings in Pyton3\n",
    "# Both are strings, and hence - iterables.\n",
    "\n",
    "depth_1_iterable_1 = \"abc\"\n",
    "target = list(itertools.chain(*depth_1_iterable_1))\n",
    "\n",
    "print(target)\n",
    "\n",
    "depth_1_iterable_2 = \"a\"\n",
    "target = list(itertools.chain(depth_1_iterable_2))\n",
    "\n",
    "print(target)\n"
   ]
  },
  {
   "cell_type": "code",
   "execution_count": 20,
   "metadata": {},
   "outputs": [
    {
     "name": "stdout",
     "output_type": "stream",
     "text": [
      "[0, 1, 2]\n"
     ]
    }
   ],
   "source": [
    "# No distinction between single character strings and strings in Pyton3\n",
    "# Both are strings, and hence - iterable.\n",
    "\n",
    "depth_1_iterable_1 = [0,1,2]\n",
    "target = list(itertools.chain(depth_1_iterable_1))\n",
    "\n",
    "print(target)\n",
    "\n",
    "depth_1_iterable_2 = 0\n",
    "\n",
    "# The following line results in an error: `TypeError: 'int' object is not iterable`\n",
    "# target = list(itertools.chain(depth_1_iterable_2))\n",
    "\n",
    "# print(target)"
   ]
  },
  {
   "attachments": {},
   "cell_type": "markdown",
   "metadata": {},
   "source": [
    "### Solution\n",
    "\n",
    "This is described in sources [2], [3], [4]"
   ]
  },
  {
   "cell_type": "code",
   "execution_count": 22,
   "metadata": {},
   "outputs": [],
   "source": [
    "from collections.abc import Iterable\n",
    "\n",
    "def flatten(xs):\n",
    "    for x in xs:\n",
    "        if isinstance(x, Iterable) and not isinstance(x, (str, bytes)):\n",
    "            yield from flatten(x)\n",
    "        else:\n",
    "            yield x"
   ]
  },
  {
   "cell_type": "code",
   "execution_count": 24,
   "metadata": {},
   "outputs": [
    {
     "name": "stdout",
     "output_type": "stream",
     "text": [
      "[1, 2, 3, 4, 5, 6]\n"
     ]
    }
   ],
   "source": [
    "sequence = [[[1, 2, 3], [4, 5]], 6]\n",
    "target = list(flatten(sequence))\n",
    "\n",
    "print(target)"
   ]
  },
  {
   "cell_type": "code",
   "execution_count": 26,
   "metadata": {},
   "outputs": [
    {
     "name": "stdout",
     "output_type": "stream",
     "text": [
      "['abc', 'b', 3, 4, 5, 6]\n"
     ]
    }
   ],
   "source": [
    "sequence = [[[\"abc\", \"b\", 3], [4, 5]], 6]\n",
    "target = list(flatten(sequence))\n",
    "\n",
    "print(target)"
   ]
  },
  {
   "attachments": {},
   "cell_type": "markdown",
   "metadata": {},
   "source": [
    "##### Notice 3\n",
    "Here we still have `\"abc\"` as a single element.\n",
    "\n",
    "We can try and decompose it as well:"
   ]
  },
  {
   "attachments": {},
   "cell_type": "markdown",
   "metadata": {},
   "source": [
    "##### Attempt 1"
   ]
  },
  {
   "cell_type": "code",
   "execution_count": 17,
   "metadata": {},
   "outputs": [],
   "source": [
    "from collections.abc import Iterable\n",
    "import itertools\n",
    "\n",
    "def flatten_with_str(xs):\n",
    "    for x in xs:\n",
    "        if isinstance(x, Iterable):\n",
    "            yield from flatten_with_str(x)\n",
    "        else:\n",
    "            yield x"
   ]
  },
  {
   "cell_type": "code",
   "execution_count": 18,
   "metadata": {},
   "outputs": [
    {
     "ename": "",
     "evalue": "",
     "output_type": "error",
     "traceback": [
      "\u001b[1;31mCanceled future for execute_request message before replies were done"
     ]
    },
    {
     "ename": "",
     "evalue": "",
     "output_type": "error",
     "traceback": [
      "\u001b[1;31mThe Kernel crashed while executing code in the the current cell or a previous cell. Please review the code in the cell(s) to identify a possible cause of the failure. Click <a href='https://aka.ms/vscodeJupyterKernelCrash'>here</a> for more info. View Jupyter <a href='command:jupyter.viewOutput'>log</a> for further details."
     ]
    }
   ],
   "source": [
    "sequence = \"abc\"\n",
    "target = list(flatten_with_str(sequence))\n",
    "\n",
    "print(target)"
   ]
  },
  {
   "attachments": {},
   "cell_type": "markdown",
   "metadata": {},
   "source": [
    "##### Notice 4\n",
    "This caused the Kernel to crash. \n",
    "\n",
    "I think this is because of never ending recursion: A single character is still as string and thus still an iterable"
   ]
  },
  {
   "cell_type": "code",
   "execution_count": 13,
   "metadata": {},
   "outputs": [
    {
     "name": "stdout",
     "output_type": "stream",
     "text": [
      "['a', 'b', 'c']\n"
     ]
    }
   ],
   "source": [
    "sequence = [\"abc\"]\n",
    "target = list(flatten_with_str(sequence))\n",
    "\n",
    "print(target)"
   ]
  },
  {
   "cell_type": "code",
   "execution_count": 14,
   "metadata": {},
   "outputs": [
    {
     "name": "stdout",
     "output_type": "stream",
     "text": [
      "['a', 'b', 'c', 'b', 3, 4, 5, 6]\n"
     ]
    }
   ],
   "source": [
    "sequence = [[[\"abc\", \"b\", 3], [4, 5]], 6]\n",
    "target = list(flatten_with_str(sequence))\n",
    "\n",
    "print(target)"
   ]
  },
  {
   "attachments": {},
   "cell_type": "markdown",
   "metadata": {},
   "source": [
    "##### Attempt 2"
   ]
  },
  {
   "cell_type": "code",
   "execution_count": 1,
   "metadata": {},
   "outputs": [],
   "source": [
    "from collections.abc import Iterable\n",
    "import itertools\n",
    "\n",
    "def flatten_with_str(xs):\n",
    "    for x in xs:\n",
    "        if isinstance(x, Iterable):\n",
    "            if isinstance(x, (str, bytes)) and len(x) == 1:\n",
    "                yield x\n",
    "            else:\n",
    "                yield from flatten_with_str(x)\n",
    "        else:\n",
    "            yield x"
   ]
  },
  {
   "cell_type": "code",
   "execution_count": 2,
   "metadata": {},
   "outputs": [
    {
     "name": "stdout",
     "output_type": "stream",
     "text": [
      "['a', 'b', 'c']\n"
     ]
    }
   ],
   "source": [
    "sequence = \"abc\"\n",
    "target = list(flatten_with_str(sequence))\n",
    "\n",
    "print(target)"
   ]
  },
  {
   "cell_type": "code",
   "execution_count": 3,
   "metadata": {},
   "outputs": [
    {
     "name": "stdout",
     "output_type": "stream",
     "text": [
      "['a', 'b', 'c']\n"
     ]
    }
   ],
   "source": [
    "sequence = [\"abc\"]\n",
    "target = list(flatten_with_str(sequence))\n",
    "\n",
    "print(target)"
   ]
  },
  {
   "cell_type": "code",
   "execution_count": 4,
   "metadata": {},
   "outputs": [
    {
     "name": "stdout",
     "output_type": "stream",
     "text": [
      "['a', 'b', 'c', 'b', 3, 4, 5, 6]\n"
     ]
    }
   ],
   "source": [
    "sequence = [[[\"abc\", \"b\", 3], [4, 5]], 6]\n",
    "target = list(flatten_with_str(sequence))\n",
    "\n",
    "print(target)"
   ]
  },
  {
   "attachments": {},
   "cell_type": "markdown",
   "metadata": {},
   "source": [
    "## More details\n",
    "Here's a link to an interesting 3rd party library that deals with flattening and also grouping!\n",
    "\n",
    "Source 6:\n",
    "\n",
    "https://iteration-utilities.readthedocs.io/en/latest/index.html"
   ]
  }
 ],
 "metadata": {
  "kernelspec": {
   "display_name": "Python 3",
   "language": "python",
   "name": "python3"
  },
  "language_info": {
   "codemirror_mode": {
    "name": "ipython",
    "version": 3
   },
   "file_extension": ".py",
   "mimetype": "text/x-python",
   "name": "python",
   "nbconvert_exporter": "python",
   "pygments_lexer": "ipython3",
   "version": "3.10.8"
  },
  "orig_nbformat": 4
 },
 "nbformat": 4,
 "nbformat_minor": 2
}
